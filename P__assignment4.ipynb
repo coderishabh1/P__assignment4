{
 "cells": [
  {
   "cell_type": "code",
   "execution_count": 1,
   "id": "cc51054b",
   "metadata": {},
   "outputs": [
    {
     "name": "stdout",
     "output_type": "stream",
     "text": [
      "5\n",
      "0\n",
      "1\n",
      "1\n",
      "2\n",
      "3\n"
     ]
    }
   ],
   "source": [
    "#Ans\n",
    "a=0\n",
    "b=1\n",
    "l=int(input())\n",
    "print(a)\n",
    "print(b)\n",
    "for i in range (l-2):\n",
    "    c=a+b\n",
    "    print(c)\n",
    "    a=b\n",
    "    b=c"
   ]
  },
  {
   "cell_type": "code",
   "execution_count": 3,
   "id": "7b274cfd",
   "metadata": {},
   "outputs": [
    {
     "name": "stdout",
     "output_type": "stream",
     "text": [
      "2\n",
      "2\n",
      "4\n",
      "6\n",
      "8\n",
      "10\n",
      "12\n",
      "14\n",
      "16\n",
      "18\n",
      "20\n"
     ]
    }
   ],
   "source": [
    "#Ans \n",
    "num = int (input ())\n",
    "for i in range (1,11):\n",
    "    print(i*num)\n"
   ]
  },
  {
   "cell_type": "code",
   "execution_count": 12,
   "id": "f63ff890",
   "metadata": {},
   "outputs": [
    {
     "name": "stdout",
     "output_type": "stream",
     "text": [
      "5\n",
      "120\n"
     ]
    }
   ],
   "source": [
    "#Ans \n",
    "import math \n",
    "num = int (input ())\n",
    "print (math.factorial(num))\n",
    "    \n"
   ]
  },
  {
   "cell_type": "code",
   "execution_count": null,
   "id": "9e9008e8",
   "metadata": {},
   "outputs": [],
   "source": [
    "#Ans \n",
    "num = int(input(\"Enter a number: \"))\n",
    "sum = 0\n",
    "temp = num\n",
    "while temp > 0:\n",
    "   digit = temp % 10\n",
    "   sum += digit ** 3\n",
    "   temp //= 10\n",
    "if num == sum:\n",
    "   print(num,\"is an Armstrong number\")\n",
    "else:\n",
    "   print(num,\"is not an Armstrong number\")"
   ]
  },
  {
   "cell_type": "code",
   "execution_count": null,
   "id": "fd4fc227",
   "metadata": {},
   "outputs": [],
   "source": [
    "#Ans \n",
    "lower = int (input())\n",
    "upper = int (input())\n",
    "for num in range(lower, upper + 1):\n",
    "    order = len(str(num))\n",
    "    sum = 0\n",
    "    temp = num\n",
    "    while temp > 0:\n",
    "        digit = temp % 10\n",
    "        sum += digit ** order\n",
    "        temp //= 10\n",
    "    if num == sum:\n",
    "        print(num)\n"
   ]
  },
  {
   "cell_type": "code",
   "execution_count": null,
   "id": "11946862",
   "metadata": {},
   "outputs": [],
   "source": [
    "#Ans \n",
    "num = int (input())\n",
    "sum=0\n",
    "for i in range (0,num+1):\n",
    "    sum = i+sum\n",
    "print(sum)"
   ]
  }
 ],
 "metadata": {
  "kernelspec": {
   "display_name": "Python 3 (ipykernel)",
   "language": "python",
   "name": "python3"
  },
  "language_info": {
   "codemirror_mode": {
    "name": "ipython",
    "version": 3
   },
   "file_extension": ".py",
   "mimetype": "text/x-python",
   "name": "python",
   "nbconvert_exporter": "python",
   "pygments_lexer": "ipython3",
   "version": "3.9.12"
  }
 },
 "nbformat": 4,
 "nbformat_minor": 5
}
